{
  "nbformat": 4,
  "nbformat_minor": 0,
  "metadata": {
    "colab": {
      "provenance": [],
      "authorship_tag": "ABX9TyNk9rgvpE/3bzFZa3w7ox+q",
      "include_colab_link": true
    },
    "kernelspec": {
      "name": "python3",
      "display_name": "Python 3"
    },
    "language_info": {
      "name": "python"
    }
  },
  "cells": [
    {
      "cell_type": "markdown",
      "metadata": {
        "id": "view-in-github",
        "colab_type": "text"
      },
      "source": [
        "<a href=\"https://colab.research.google.com/github/cutjaramillo-create/Cutberto-Jaramillo-Flores/blob/main/Algoritmo1Velocidad.ipynb\" target=\"_parent\"><img src=\"https://colab.research.google.com/assets/colab-badge.svg\" alt=\"Open In Colab\"/></a>"
      ]
    },
    {
      "cell_type": "markdown",
      "source": [
        "# **Algoritmo 1: Cálculo de la Velocidad**          Cutberto Jaramillo Flores"
      ],
      "metadata": {
        "id": "i1eWo6tFO6dC"
      }
    },
    {
      "cell_type": "code",
      "source": [
        "# Cálculo de la velocidad\n",
        "\n",
        "distancia = float(input(\"Ingrese la distancia (m): \"))\n",
        "tiempo = float(input(\"Ingrese el tiempo (s): \"))\n",
        "\n",
        "if tiempo != 0:\n",
        "    velocidad = distancia / tiempo\n",
        "    print(\"La velocidad es:\", velocidad, \"m/s\")\n",
        "else:\n",
        "    print(\"El tiempo no puede ser cero.\")\n"
      ],
      "metadata": {
        "colab": {
          "base_uri": "https://localhost:8080/"
        },
        "id": "GSNrVtLyO3Hc",
        "outputId": "f1d5d376-6ff3-4f94-f6f0-8152fe3f7927"
      },
      "execution_count": 1,
      "outputs": [
        {
          "output_type": "stream",
          "name": "stdout",
          "text": [
            "Ingrese la distancia (m): 50\n",
            "Ingrese el tiempo (s): 2\n",
            "La velocidad es: 25.0 m/s\n"
          ]
        }
      ]
    }
  ]
}