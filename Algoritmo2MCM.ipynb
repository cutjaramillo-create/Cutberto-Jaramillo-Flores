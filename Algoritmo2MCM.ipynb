{
  "nbformat": 4,
  "nbformat_minor": 0,
  "metadata": {
    "colab": {
      "provenance": [],
      "authorship_tag": "ABX9TyNAI7MdcDzPdZP7VYfK3dHE",
      "include_colab_link": true
    },
    "kernelspec": {
      "name": "python3",
      "display_name": "Python 3"
    },
    "language_info": {
      "name": "python"
    }
  },
  "cells": [
    {
      "cell_type": "markdown",
      "metadata": {
        "id": "view-in-github",
        "colab_type": "text"
      },
      "source": [
        "<a href=\"https://colab.research.google.com/github/cutjaramillo-create/Cutberto-Jaramillo-Flores/blob/main/Algoritmo2MCM.ipynb\" target=\"_parent\"><img src=\"https://colab.research.google.com/assets/colab-badge.svg\" alt=\"Open In Colab\"/></a>"
      ]
    },
    {
      "cell_type": "markdown",
      "source": [
        "# **Algoritmo 2: Cálculo del Máximo Comun Múltiplo**    Cutberto Jaramillo Flores"
      ],
      "metadata": {
        "id": "1iVKNyi4pB5g"
      }
    },
    {
      "cell_type": "code",
      "source": [
        "import math\n",
        "\n",
        "# Máximo Común Múltiplo (MCM)\n",
        "\n",
        "a = int(input(\"Ingrese el primer número: \"))\n",
        "b = int(input(\"Ingrese el segundo número: \"))\n",
        "\n",
        "mcm = abs(a * b) // math.gcd(a, b)\n",
        "print(\"El MCM de\", a, \"y\", b, \"es:\", mcm)\n"
      ],
      "metadata": {
        "colab": {
          "base_uri": "https://localhost:8080/"
        },
        "id": "argqLRbkpAtK",
        "outputId": "b539d53f-a30b-4244-d1f5-75ccb372fe2c"
      },
      "execution_count": 1,
      "outputs": [
        {
          "output_type": "stream",
          "name": "stdout",
          "text": [
            "Ingrese el primer número: 18\n",
            "Ingrese el segundo número: 9\n",
            "El MCM de 18 y 9 es: 18\n"
          ]
        }
      ]
    }
  ]
}